{
 "cells": [
  {
   "cell_type": "code",
   "execution_count": 6,
   "metadata": {
    "collapsed": false
   },
   "outputs": [
    {
     "name": "stderr",
     "output_type": "stream",
     "text": [
      "/tmp/ipykernel_1136707/2342325992.py:9: FutureWarning: In a future version, `df.iloc[:, i] = newvals` will attempt to set the values inplace instead of always setting a new array. To retain the old behavior, use either `df[df.columns[i]] = newvals` or, if columns are non-unique, `df.isetitem(i, newvals)`\n",
      "  df.loc[:, 'Price'] *= 0.012\n"
     ]
    },
    {
     "data": {
      "text/html": [
       "<div>\n",
       "<style scoped>\n",
       "    .dataframe tbody tr th:only-of-type {\n",
       "        vertical-align: middle;\n",
       "    }\n",
       "\n",
       "    .dataframe tbody tr th {\n",
       "        vertical-align: top;\n",
       "    }\n",
       "\n",
       "    .dataframe thead th {\n",
       "        text-align: right;\n",
       "    }\n",
       "</style>\n",
       "<table border=\"1\" class=\"dataframe\">\n",
       "  <thead>\n",
       "    <tr style=\"text-align: right;\">\n",
       "      <th></th>\n",
       "      <th>Car_Name</th>\n",
       "      <th>Make</th>\n",
       "      <th>Model</th>\n",
       "      <th>Make_Year</th>\n",
       "      <th>Color</th>\n",
       "      <th>Body_Type</th>\n",
       "      <th>Mileage_Run</th>\n",
       "      <th>No_of_Owners</th>\n",
       "      <th>Seating_Capacity</th>\n",
       "      <th>Fuel_Type</th>\n",
       "      <th>Fuel_Tank_Capacity(G)</th>\n",
       "      <th>Engine_Type</th>\n",
       "      <th>CC_Displacement</th>\n",
       "      <th>Transmission</th>\n",
       "      <th>Transmission_Type</th>\n",
       "      <th>Power(BHP)</th>\n",
       "      <th>Torque(Nm)</th>\n",
       "      <th>Mileage(kmpl)</th>\n",
       "      <th>Emission</th>\n",
       "      <th>Price</th>\n",
       "    </tr>\n",
       "  </thead>\n",
       "  <tbody>\n",
       "    <tr>\n",
       "      <th>0</th>\n",
       "      <td>Volkswagen Ameo [2016-2017] Highline 1.5L AT (D)</td>\n",
       "      <td>Volkswagen</td>\n",
       "      <td>Ameo</td>\n",
       "      <td>2017</td>\n",
       "      <td>silver</td>\n",
       "      <td>sedan</td>\n",
       "      <td>44,611</td>\n",
       "      <td>1</td>\n",
       "      <td>5</td>\n",
       "      <td>diesel</td>\n",
       "      <td>11.889036</td>\n",
       "      <td>1.5L TDI Engine</td>\n",
       "      <td>1498</td>\n",
       "      <td>7-Speed</td>\n",
       "      <td>Automatic</td>\n",
       "      <td>109.00</td>\n",
       "      <td>250.00</td>\n",
       "      <td>21.66</td>\n",
       "      <td>BS IV</td>\n",
       "      <td>7884.0</td>\n",
       "    </tr>\n",
       "    <tr>\n",
       "      <th>1</th>\n",
       "      <td>Hyundai i20 Active [2015-2020] 1.2 SX</td>\n",
       "      <td>Hyundai</td>\n",
       "      <td>i20 Active</td>\n",
       "      <td>2016</td>\n",
       "      <td>red</td>\n",
       "      <td>crossover</td>\n",
       "      <td>20,305</td>\n",
       "      <td>1</td>\n",
       "      <td>5</td>\n",
       "      <td>petrol</td>\n",
       "      <td>11.889036</td>\n",
       "      <td>1.2L Kappa 5 Speed Manual Transmission</td>\n",
       "      <td>1197</td>\n",
       "      <td>5-Speed</td>\n",
       "      <td>Manual</td>\n",
       "      <td>82.00</td>\n",
       "      <td>115.00</td>\n",
       "      <td>17.19</td>\n",
       "      <td>BS V</td>\n",
       "      <td>8184.0</td>\n",
       "    </tr>\n",
       "    <tr>\n",
       "      <th>2</th>\n",
       "      <td>Honda WR-V VX i-VTEC</td>\n",
       "      <td>Honda</td>\n",
       "      <td>WR-V</td>\n",
       "      <td>2019</td>\n",
       "      <td>white</td>\n",
       "      <td>suv</td>\n",
       "      <td>29,540</td>\n",
       "      <td>2</td>\n",
       "      <td>5</td>\n",
       "      <td>petrol</td>\n",
       "      <td>10.568032</td>\n",
       "      <td>i-VTEC Petrol engine</td>\n",
       "      <td>1199</td>\n",
       "      <td>5-Speed</td>\n",
       "      <td>Manual</td>\n",
       "      <td>88.50</td>\n",
       "      <td>110.00</td>\n",
       "      <td>16.5</td>\n",
       "      <td>BS IV</td>\n",
       "      <td>9516.0</td>\n",
       "    </tr>\n",
       "    <tr>\n",
       "      <th>3</th>\n",
       "      <td>Renault Kwid 1.0 RXT AMT</td>\n",
       "      <td>Renault</td>\n",
       "      <td>Kwid</td>\n",
       "      <td>2017</td>\n",
       "      <td>bronze</td>\n",
       "      <td>hatchback</td>\n",
       "      <td>35,680</td>\n",
       "      <td>1</td>\n",
       "      <td>5</td>\n",
       "      <td>petrol</td>\n",
       "      <td>7.397622</td>\n",
       "      <td>1.0L</td>\n",
       "      <td>999</td>\n",
       "      <td>5-Speed</td>\n",
       "      <td>Manual</td>\n",
       "      <td>67.00</td>\n",
       "      <td>91.00</td>\n",
       "      <td>21.7</td>\n",
       "      <td>BS IV</td>\n",
       "      <td>4968.0</td>\n",
       "    </tr>\n",
       "    <tr>\n",
       "      <th>4</th>\n",
       "      <td>Hyundai Grand i10 [2017-2020] Asta 1.2 Kappa VTVT</td>\n",
       "      <td>Hyundai</td>\n",
       "      <td>Grand i10</td>\n",
       "      <td>2017</td>\n",
       "      <td>orange</td>\n",
       "      <td>hatchback</td>\n",
       "      <td>25,126</td>\n",
       "      <td>1</td>\n",
       "      <td>5</td>\n",
       "      <td>petrol</td>\n",
       "      <td>11.360634</td>\n",
       "      <td>Kappa VTVT Petrol Engine</td>\n",
       "      <td>1197</td>\n",
       "      <td>5-Speed</td>\n",
       "      <td>Manual</td>\n",
       "      <td>81.86</td>\n",
       "      <td>113.75</td>\n",
       "      <td>18.9</td>\n",
       "      <td>BS V</td>\n",
       "      <td>6180.0</td>\n",
       "    </tr>\n",
       "  </tbody>\n",
       "</table>\n",
       "</div>"
      ],
      "text/plain": [
       "                                            Car_Name        Make       Model  \\\n",
       "0   Volkswagen Ameo [2016-2017] Highline 1.5L AT (D)  Volkswagen        Ameo   \n",
       "1              Hyundai i20 Active [2015-2020] 1.2 SX     Hyundai  i20 Active   \n",
       "2                               Honda WR-V VX i-VTEC       Honda        WR-V   \n",
       "3                           Renault Kwid 1.0 RXT AMT     Renault        Kwid   \n",
       "4  Hyundai Grand i10 [2017-2020] Asta 1.2 Kappa VTVT     Hyundai   Grand i10   \n",
       "\n",
       "   Make_Year   Color  Body_Type Mileage_Run  No_of_Owners  Seating_Capacity  \\\n",
       "0       2017  silver      sedan      44,611             1                 5   \n",
       "1       2016     red  crossover      20,305             1                 5   \n",
       "2       2019   white        suv      29,540             2                 5   \n",
       "3       2017  bronze  hatchback      35,680             1                 5   \n",
       "4       2017  orange  hatchback      25,126             1                 5   \n",
       "\n",
       "  Fuel_Type  Fuel_Tank_Capacity(G)                             Engine_Type  \\\n",
       "0    diesel              11.889036                         1.5L TDI Engine   \n",
       "1    petrol              11.889036  1.2L Kappa 5 Speed Manual Transmission   \n",
       "2    petrol              10.568032                    i-VTEC Petrol engine   \n",
       "3    petrol               7.397622                                    1.0L   \n",
       "4    petrol              11.360634                Kappa VTVT Petrol Engine   \n",
       "\n",
       "   CC_Displacement Transmission Transmission_Type  Power(BHP)  Torque(Nm)  \\\n",
       "0             1498      7-Speed         Automatic      109.00      250.00   \n",
       "1             1197      5-Speed            Manual       82.00      115.00   \n",
       "2             1199      5-Speed            Manual       88.50      110.00   \n",
       "3              999      5-Speed            Manual       67.00       91.00   \n",
       "4             1197      5-Speed            Manual       81.86      113.75   \n",
       "\n",
       "  Mileage(kmpl) Emission   Price  \n",
       "0         21.66    BS IV  7884.0  \n",
       "1         17.19     BS V  8184.0  \n",
       "2          16.5    BS IV  9516.0  \n",
       "3          21.7    BS IV  4968.0  \n",
       "4          18.9     BS V  6180.0  "
      ]
     },
     "execution_count": 6,
     "metadata": {
     },
     "output_type": "execute_result"
    }
   ],
   "source": [
    "#basic imports\n",
    "import pandas as pd\n",
    "df = pd.read_csv(\"car_data.csv\")\n",
    "#Removing commas in Price Column\n",
    "df['Price']=df['Price'].str.replace(',','')\n",
    "\n",
    "#Converting Price currency from Indian Rupees to US Dollars\n",
    "df['Price'] = pd.to_numeric(df['Price'])\n",
    "df.loc[:, 'Price'] *= 0.012\n",
    "\n",
    "#Converting No. Owners from String description to int\n",
    "df['No_of_Owners']=df['No_of_Owners'].str.replace('1st', \"1\")\n",
    "df['No_of_Owners']=df['No_of_Owners'].str.replace('2nd', \"2\")\n",
    "df['No_of_Owners']=df['No_of_Owners'].str.replace('3rd', \"3\")\n",
    "df['No_of_Owners'] = pd.to_numeric(df['No_of_Owners'])\n",
    "\n",
    "df = df.rename(columns = {\"Fuel_Tank_Capacity(L)\" : \"Fuel_Tank_Capacity(G)\"})\n",
    "df.loc[:, 'Fuel_Tank_Capacity(G)'] /= 3.785\n",
    "\n",
    "df.head()\n",
    "###mean is 8892.233607"
   ]
  },
  {
   "cell_type": "code",
   "execution_count": 53,
   "metadata": {
    "collapsed": false
   },
   "outputs": [
   ],
   "source": [
    "#stuff\n",
    "import numpy as np\n",
    "import matplotlib.pyplot as plt\n",
    "###mean is 8892.233607\n",
    "top_half = df[df['Price']>8892.233607]"
   ]
  },
  {
   "cell_type": "code",
   "execution_count": 54,
   "metadata": {
    "collapsed": false
   },
   "outputs": [
    {
     "data": {
      "text/plain": [
       "<AxesSubplot: >"
      ]
     },
     "execution_count": 54,
     "metadata": {
     },
     "output_type": "execute_result"
    },
    {
     "data": {
      "image/png": "[encoded data removed]",
      "text/plain": [
       "<Figure size 432x288 with 1 Axes>"
      ]
     },
     "execution_count": 54,
     "metadata": {
      "needs_background": "light"
     },
     "output_type": "execute_result"
    }
   ],
   "source": [
    "###what number of owners is most common?\n",
    "top_half[\"No_of_Owners\"].hist()"
   ]
  },
  {
   "cell_type": "code",
   "execution_count": 55,
   "metadata": {
    "collapsed": false
   },
   "outputs": [
    {
     "data": {
      "image/png": "[encoded data removed]",
      "text/plain": [
       "<Figure size 432x288 with 1 Axes>"
      ]
     },
     "execution_count": 55,
     "metadata": {
     },
     "output_type": "execute_result"
    }
   ],
   "source": [
    "noo1 = top_half[\"No_of_Owners\"].value_counts()[1.0]\n",
    "noo2 = top_half[\"No_of_Owners\"].value_counts()[2.0]\n",
    "noo3 = top_half[\"No_of_Owners\"].value_counts()[3.0]\n",
    "top_total = len(top_half)\n",
    "noo_arr = np.array([(noo1/noo_total), (noo2/noo_total), (noo3/noo_total)])\n",
    "noo_labels = [\"1\", \"2\", \"3\"]\n",
    "plt.pie(noo_arr, labels = noo_labels, shadow = True)\n",
    "plt.show()"
   ]
  },
  {
   "cell_type": "code",
   "execution_count": 56,
   "metadata": {
    "collapsed": false
   },
   "outputs": [
    {
     "data": {
      "text/plain": [
       "<AxesSubplot: >"
      ]
     },
     "execution_count": 56,
     "metadata": {
     },
     "output_type": "execute_result"
    },
    {
     "data": {
      "image/png": "[encoded data removed]",
      "text/plain": [
       "<Figure size 432x288 with 1 Axes>"
      ]
     },
     "execution_count": 56,
     "metadata": {
      "needs_background": "light"
     },
     "output_type": "execute_result"
    }
   ],
   "source": [
    "###what transmission types are most common?\n",
    "top_half[\"Transmission_Type\"].hist()"
   ]
  },
  {
   "cell_type": "code",
   "execution_count": 57,
   "metadata": {
    "collapsed": false
   },
   "outputs": [
    {
     "data": {
      "image/png": "[encoded data removed]",
      "text/plain": [
       "<Figure size 432x288 with 1 Axes>"
      ]
     },
     "execution_count": 57,
     "metadata": {
     },
     "output_type": "execute_result"
    }
   ],
   "source": [
    "tt1 = top_half[\"Transmission_Type\"].value_counts()[\"Manual\"]\n",
    "tt2 = top_half[\"Transmission_Type\"].value_counts()[\"Automatic\"]\n",
    "tt_arr = np.array([(tt1/top_total), (tt2/top_total)])\n",
    "tt_labels = [\"Manual\", \"Automatic\"]\n",
    "plt.pie(tt_arr, labels = tt_labels, shadow = True)\n",
    "plt.show()"
   ]
  },
  {
   "cell_type": "code",
   "execution_count": 58,
   "metadata": {
    "collapsed": false
   },
   "outputs": [
    {
     "data": {
      "text/plain": [
       "<AxesSubplot: >"
      ]
     },
     "execution_count": 58,
     "metadata": {
     },
     "output_type": "execute_result"
    },
    {
     "data": {
      "image/png": "[encoded data removed]",
      "text/plain": [
       "<Figure size 432x288 with 1 Axes>"
      ]
     },
     "execution_count": 58,
     "metadata": {
      "needs_background": "light"
     },
     "output_type": "execute_result"
    }
   ],
   "source": [
    "#what fuel type is most common?\n",
    "top_half[\"Fuel_Type\"].hist()"
   ]
  },
  {
   "cell_type": "code",
   "execution_count": 59,
   "metadata": {
    "collapsed": false
   },
   "outputs": [
    {
     "data": {
      "image/png": "[encoded data removed]",
      "text/plain": [
       "<Figure size 432x288 with 1 Axes>"
      ]
     },
     "execution_count": 59,
     "metadata": {
     },
     "output_type": "execute_result"
    }
   ],
   "source": [
    "ft1 = top_half[\"Fuel_Type\"].value_counts()[\"petrol\"]\n",
    "ft2 = top_half[\"Fuel_Type\"].value_counts()[\"diesel\"]\n",
    "ft_arr = np.array([(ft1/top_total), (ft2/top_total)])\n",
    "ft_labels = [\"petrol\", \"diesel\"]\n",
    "plt.pie(ft_arr, labels = ft_labels, shadow = True)\n",
    "plt.show()"
   ]
  },
  {
   "cell_type": "code",
   "execution_count": 60,
   "metadata": {
    "collapsed": false
   },
   "outputs": [
    {
     "data": {
      "text/plain": [
       "<AxesSubplot: >"
      ]
     },
     "execution_count": 60,
     "metadata": {
     },
     "output_type": "execute_result"
    },
    {
     "data": {
      "image/png": "[encoded data removed]",
      "text/plain": [
       "<Figure size 432x288 with 1 Axes>"
      ]
     },
     "execution_count": 60,
     "metadata": {
      "needs_background": "light"
     },
     "output_type": "execute_result"
    }
   ],
   "source": [
    "#what seating capacity is most common?\n",
    "top_half[\"Seating_Capacity\"].hist()"
   ]
  },
  {
   "cell_type": "code",
   "execution_count": 63,
   "metadata": {
    "collapsed": false
   },
   "outputs": [
    {
     "data": {
      "image/png": "[encoded data removed]",
      "text/plain": [
       "<Figure size 432x288 with 1 Axes>"
      ]
     },
     "execution_count": 63,
     "metadata": {
     },
     "output_type": "execute_result"
    }
   ],
   "source": [
    "top_half[\"Seating_Capacity\"].unique()\n",
    "sc1 = top_half[\"Seating_Capacity\"].value_counts()[5.0]\n",
    "sc2 = top_half[\"Seating_Capacity\"].value_counts()[7.0]\n",
    "sc3 = top_half[\"Seating_Capacity\"].value_counts()[6.0]\n",
    "sc_arr = np.array([(sc1/top_total), (sc2/top_total), (sc3/top_total)])\n",
    "sc_labels = [\"5\", \"7\", \"6\"]\n",
    "plt.pie(sc_arr, labels = sc_labels, shadow = True)\n",
    "plt.show()"
   ]
  },
  {
   "cell_type": "code",
   "execution_count": 66,
   "metadata": {
    "collapsed": false
   },
   "outputs": [
    {
     "data": {
      "text/plain": [
       "'\\nspecific insights:\\nthe average price is $8892.23 for used cars\\nfor the used cars with an above average price,\\n    1. They mostly have only one previous owner\\n        1b. They also sometimes have two previous owners\\n    2. They tend to have a manual transmission\\n        2b. It is not uncommon for them to have an automatic transmission\\n    3. They tend to run on petrol as opposed to diesel\\n        3b. It is not uncommon for them to run on diesel\\n    4. They overwhelmingly have a seating capacity of 5\\n        4b. They also occasionally have a seating capacity of 7\\n'"
      ]
     },
     "execution_count": 66,
     "metadata": {
     },
     "output_type": "execute_result"
    }
   ],
   "source": [
    "\"\"\"\n",
    "specific insights:\n",
    "the average price is $8892.23 for used cars\n",
    "for the used cars with an above average price,\n",
    "    1. They mostly have only one previous owner\n",
    "        1b. They also sometimes have two previous owners\n",
    "    2. They tend to have a manual transmission\n",
    "        2b. It is not uncommon for them to have an automatic transmission\n",
    "    3. They tend to run on petrol as opposed to diesel\n",
    "        3b. It is not uncommon for them to run on diesel\n",
    "    4. They overwhelmingly have a seating capacity of 5\n",
    "        4b. They also occasionally have a seating capacity of 7\n",
    "    A used car with only one previous owner, a manual transmission, which runs on petrol, and has a seating capacity of 5 would be the most expensive. \n",
    "    If a shopper's needs can be met without these attributes, they should  be avoided to keep costs down\n",
    "\"\"\""
   ]
  },
  {
   "cell_type": "code",
   "execution_count": 68,
   "metadata": {
    "collapsed": false
   },
   "outputs": [
    {
     "data": {
      "text/plain": [
       "array([2019, 2021, 2020, 2022, 2017, 2018, 2016, 2015, 2014])"
      ]
     },
     "execution_count": 68,
     "metadata": {
     },
     "output_type": "execute_result"
    },
    {
     "data": {
      "image/png": "[encoded data removed]",
      "text/plain": [
       "<Figure size 432x288 with 1 Axes>"
      ]
     },
     "execution_count": 68,
     "metadata": {
      "needs_background": "light"
     },
     "output_type": "execute_result"
    }
   ],
   "source": [
    "top_half[\"Make_Year\"].hist()\n",
    "top_half[\"Make_Year\"].unique()"
   ]
  },
  {
   "cell_type": "code",
   "execution_count": 71,
   "metadata": {
    "collapsed": false
   },
   "outputs": [
    {
     "data": {
      "image/png": "[encoded data removed]",
      "text/plain": [
       "<Figure size 432x288 with 1 Axes>"
      ]
     },
     "execution_count": 71,
     "metadata": {
     },
     "output_type": "execute_result"
    }
   ],
   "source": [
    "my1 = top_half[\"Make_Year\"].value_counts()[2019]\n",
    "my2 = top_half[\"Make_Year\"].value_counts()[2021]\n",
    "my3 = top_half[\"Make_Year\"].value_counts()[2020]\n",
    "my4 = top_half[\"Make_Year\"].value_counts()[2022]\n",
    "my5 = top_half[\"Make_Year\"].value_counts()[2017]\n",
    "my6 = top_half[\"Make_Year\"].value_counts()[2018]\n",
    "my7 = top_half[\"Make_Year\"].value_counts()[2016]\n",
    "my8 = top_half[\"Make_Year\"].value_counts()[2015]\n",
    "my9 = top_half[\"Make_Year\"].value_counts()[2014]\n",
    "\n",
    "my_arr = np.array([(my1/top_total), (my2/top_total), (my3/top_total), (my4/top_total), (my5/top_total), (my6/top_total), (my7/top_total), (my8/top_total), (my6/top_total)])\n",
    "my_labels = [\"2019\", \"2021\", \"2020\", \"2022\", \"2017\", \"2018\", \"2016\", \"2015\", \"2014\"]\n",
    "plt.pie(my_arr, labels = my_labels, shadow = True)\n",
    "plt.show()"
   ]
  },
  {
   "cell_type": "code",
   "execution_count": 73,
   "metadata": {
    "collapsed": false
   },
   "outputs": [
    {
     "data": {
      "text/plain": [
       "array([2017, 2016, 2019, 2012, 2021, 2020, 2013, 2022, 2018, 2014, 2011,\n",
       "       2015])"
      ]
     },
     "execution_count": 73,
     "metadata": {
     },
     "output_type": "execute_result"
    },
    {
     "data": {
      "image/png": "[encoded data removed]",
      "text/plain": [
       "<Figure size 432x288 with 1 Axes>"
      ]
     },
     "execution_count": 73,
     "metadata": {
      "needs_background": "light"
     },
     "output_type": "execute_result"
    }
   ],
   "source": [
    "df[\"Make_Year\"].hist()\n",
    "df[\"Make_Year\"].unique()"
   ]
  },
  {
   "cell_type": "code",
   "execution_count": 0,
   "metadata": {
    "collapsed": false
   },
   "outputs": [
   ],
   "source": [
    "df"
   ]
  },
  {
   "cell_type": "code",
   "execution_count": 1,
   "metadata": {
    "collapsed": false
   },
   "outputs": [
    {
     "ename": "NameError",
     "evalue": "name 'top_half' is not defined",
     "output_type": "error",
     "traceback": [
      "\u001b[0;31m---------------------------------------------------------------------------\u001b[0m",
      "\u001b[0;31mNameError\u001b[0m                                 Traceback (most recent call last)",
      "Input \u001b[0;32mIn [1]\u001b[0m, in \u001b[0;36m<cell line: 1>\u001b[0;34m()\u001b[0m\n\u001b[0;32m----> 1\u001b[0m top_total \u001b[38;5;241m=\u001b[39m \u001b[38;5;28mlen\u001b[39m(\u001b[43mtop_half\u001b[49m)\n\u001b[1;32m      3\u001b[0m tt1 \u001b[38;5;241m=\u001b[39m top_half[\u001b[38;5;124m\"\u001b[39m\u001b[38;5;124mTransmission_Type\u001b[39m\u001b[38;5;124m\"\u001b[39m]\u001b[38;5;241m.\u001b[39mvalue_counts()[\u001b[38;5;124m\"\u001b[39m\u001b[38;5;124mManual\u001b[39m\u001b[38;5;124m\"\u001b[39m]\n\u001b[1;32m      4\u001b[0m tt2 \u001b[38;5;241m=\u001b[39m top_half[\u001b[38;5;124m\"\u001b[39m\u001b[38;5;124mTransmission_Type\u001b[39m\u001b[38;5;124m\"\u001b[39m]\u001b[38;5;241m.\u001b[39mvalue_counts()[\u001b[38;5;124m\"\u001b[39m\u001b[38;5;124mAutomatic\u001b[39m\u001b[38;5;124m\"\u001b[39m]\n",
      "\u001b[0;31mNameError\u001b[0m: name 'top_half' is not defined"
     ]
    }
   ],
   "source": [
    "top_total = len(top_half)\n",
    "\n",
    "tt1 = top_half[\"Transmission_Type\"].value_counts()[\"Manual\"]\n",
    "tt2 = top_half[\"Transmission_Type\"].value_counts()[\"Automatic\"]\n",
    "tt_arr = np.array([(tt1/top_total), (tt2/top_total)])\n",
    "tt_labels = [\"Manual\", \"Automatic\"]\n",
    "plt.pie(tt_arr, labels = tt_labels, shadow = True)\n",
    "plt.show()\n",
    "\n",
    "ft1 = top_half[\"Fuel_Type\"].value_counts()[\"petrol\"]\n",
    "ft2 = top_half[\"Fuel_Type\"].value_counts()[\"diesel\"]\n",
    "ft_arr = np.array([(ft1/top_total), (ft2/top_total)])\n",
    "ft_labels = [\"petrol\", \"diesel\"]\n",
    "plt.pie(ft_arr, labels = ft_labels, shadow = True)\n",
    "plt.show()\n",
    "\n",
    "top_half[\"Seating_Capacity\"].unique()\n",
    "sc1 = top_half[\"Seating_Capacity\"].value_counts()[5.0]\n",
    "sc2 = top_half[\"Seating_Capacity\"].value_counts()[7.0]\n",
    "sc3 = top_half[\"Seating_Capacity\"].value_counts()[6.0]\n",
    "sc_arr = np.array([(sc1/top_total), (sc2/top_total), (sc3/top_total)])\n",
    "sc_labels = [\"5\", \"7\", \"6\"]\n",
    "plt.pie(sc_arr, labels = sc_labels, shadow = True)\n",
    "plt.show()\n",
    "\n",
    "print(\"most of the more expensive cars are manual, run on petrol, and have a seating capacity of 5\")\n"
   ]
  },
  {
   "cell_type": "code",
   "execution_count": 2,
   "metadata": {
    "collapsed": false
   },
   "outputs": [
    {
     "ename": "NameError",
     "evalue": "name 'top_half' is not defined",
     "output_type": "error",
     "traceback": [
      "\u001b[0;31m---------------------------------------------------------------------------\u001b[0m",
      "\u001b[0;31mNameError\u001b[0m                                 Traceback (most recent call last)",
      "Input \u001b[0;32mIn [2]\u001b[0m, in \u001b[0;36m<cell line: 2>\u001b[0;34m()\u001b[0m\n\u001b[1;32m      1\u001b[0m \u001b[38;5;66;03m###tophalf stuff (teddy)\u001b[39;00m\n\u001b[0;32m----> 2\u001b[0m top_total \u001b[38;5;241m=\u001b[39m \u001b[38;5;28mlen\u001b[39m(\u001b[43mtop_half\u001b[49m)\n\u001b[1;32m      3\u001b[0m \u001b[38;5;66;03m#tttop\u001b[39;00m\n\u001b[1;32m      4\u001b[0m tt1 \u001b[38;5;241m=\u001b[39m top_half[\u001b[38;5;124m\"\u001b[39m\u001b[38;5;124mTransmission_Type\u001b[39m\u001b[38;5;124m\"\u001b[39m]\u001b[38;5;241m.\u001b[39mvalue_counts()[\u001b[38;5;124m\"\u001b[39m\u001b[38;5;124mManual\u001b[39m\u001b[38;5;124m\"\u001b[39m]\n",
      "\u001b[0;31mNameError\u001b[0m: name 'top_half' is not defined"
     ]
    }
   ],
   "source": [
    "\n",
    "###tophalf stuff (teddy)\n",
    "top_total = len(top_half)\n",
    "#tttop\n",
    "tt1 = top_half[\"Transmission_Type\"].value_counts()[\"Manual\"]\n",
    "tt2 = top_half[\"Transmission_Type\"].value_counts()[\"Automatic\"]\n",
    "tt_arr = np.array([(tt1/top_total), (tt2/top_total)])\n",
    "tt_labels = [\"Manual\", \"Automatic\"]\n",
    "st.plotly_chart(plt.pie(tt_arr, labels = tt_labels, shadow = True))\n",
    "#fttop\n",
    "ft1 = top_half[\"Fuel_Type\"].value_counts()[\"petrol\"]\n",
    "ft2 = top_half[\"Fuel_Type\"].value_counts()[\"diesel\"]\n",
    "ft_arr = np.array([(ft1/top_total), (ft2/top_total)])\n",
    "ft_labels = [\"petrol\", \"diesel\"]\n",
    "st.plotly_chart(plt.pie(ft_arr, labels = ft_labels, shadow = True))\n",
    "#sctop\n",
    "top_half[\"Seating_Capacity\"].unique()\n",
    "sc1 = top_half[\"Seating_Capacity\"].value_counts()[5.0]\n",
    "sc2 = top_half[\"Seating_Capacity\"].value_counts()[7.0]\n",
    "sc3 = top_half[\"Seating_Capacity\"].value_counts()[6.0]\n",
    "sc_arr = np.array([(sc1/top_total), (sc2/top_total), (sc3/top_total)])\n",
    "sc_labels = [\"5\", \"7\", \"6\"]\n",
    "st.plotly_chart(plt.pie(sc_arr, labels = sc_labels, shadow = True))"
   ]
  },
  {
   "cell_type": "code",
   "execution_count": 3,
   "metadata": {
    "collapsed": false
   },
   "outputs": [
    {
     "ename": "NameError",
     "evalue": "name 'top_half' is not defined",
     "output_type": "error",
     "traceback": [
      "\u001b[0;31m---------------------------------------------------------------------------\u001b[0m",
      "\u001b[0;31mNameError\u001b[0m                                 Traceback (most recent call last)",
      "Input \u001b[0;32mIn [3]\u001b[0m, in \u001b[0;36m<cell line: 5>\u001b[0;34m()\u001b[0m\n\u001b[1;32m      1\u001b[0m \u001b[38;5;28;01mimport\u001b[39;00m \u001b[38;5;21;01mmatplotlib\u001b[39;00m\u001b[38;5;21;01m.\u001b[39;00m\u001b[38;5;21;01mpyplot\u001b[39;00m \u001b[38;5;28;01mas\u001b[39;00m \u001b[38;5;21;01mplt\u001b[39;00m\n\u001b[1;32m      4\u001b[0m \u001b[38;5;66;03m###tophalf stuff (teddy)\u001b[39;00m\n\u001b[0;32m----> 5\u001b[0m top_total \u001b[38;5;241m=\u001b[39m \u001b[38;5;28mlen\u001b[39m(\u001b[43mtop_half\u001b[49m)\n\u001b[1;32m      6\u001b[0m \u001b[38;5;66;03m#tttop\u001b[39;00m\n\u001b[1;32m      7\u001b[0m tt1 \u001b[38;5;241m=\u001b[39m top_half[\u001b[38;5;124m\"\u001b[39m\u001b[38;5;124mTransmission_Type\u001b[39m\u001b[38;5;124m\"\u001b[39m]\u001b[38;5;241m.\u001b[39mvalue_counts()[\u001b[38;5;124m\"\u001b[39m\u001b[38;5;124mManual\u001b[39m\u001b[38;5;124m\"\u001b[39m]\n",
      "\u001b[0;31mNameError\u001b[0m: name 'top_half' is not defined"
     ]
    }
   ],
   "source": [
    "import matplotlib.pyplot as plt\n",
    "\n",
    "\n",
    "###tophalf stuff (teddy)\n",
    "top_total = len(top_half)\n",
    "#tttop\n",
    "tt1 = top_half[\"Transmission_Type\"].value_counts()[\"Manual\"]\n",
    "tt2 = top_half[\"Transmission_Type\"].value_counts()[\"Automatic\"]\n",
    "tt_arr = np.array([(tt1/top_total), (tt2/top_total)])\n",
    "tt_labels = [\"Manual\", \"Automatic\"]\n",
    "st.plotly_chart(plt.pie(tt_arr, labels = tt_labels, shadow = True))\n",
    "#fttop\n",
    "ft1 = top_half[\"Fuel_Type\"].value_counts()[\"petrol\"]\n",
    "ft2 = top_half[\"Fuel_Type\"].value_counts()[\"diesel\"]\n",
    "ft_arr = np.array([(ft1/top_total), (ft2/top_total)])\n",
    "ft_labels = [\"petrol\", \"diesel\"]\n",
    "st.plotly_chart(plt.pie(ft_arr, labels = ft_labels, shadow = True))\n",
    "#sctop\n",
    "top_half[\"Seating_Capacity\"].unique()\n",
    "sc1 = top_half[\"Seating_Capacity\"].value_counts()[5.0]\n",
    "sc2 = top_half[\"Seating_Capacity\"].value_counts()[7.0]\n",
    "sc3 = top_half[\"Seating_Capacity\"].value_counts()[6.0]\n",
    "\n",
    "\n",
    "# Pie chart, where the slices will be ordered and plotted counter-clockwise:\n",
    "labels = 'Frogs', 'Hogs', 'Dogs', 'Logs'\n",
    "sizes = [15, 30, 45, 10]\n",
    "explode = (0, 0.1, 0, 0)  # only \"explode\" the 2nd slice (i.e. 'Hogs')\n",
    "\n",
    "fig1, ax1 = plt.subplots()\n",
    "ax1.pie(sizes, explode=explode, labels=labels, autopct='%1.1f%%',\n",
    "        shadow=True, startangle=90)\n",
    "ax1.axis('equal')  # Equal aspect ratio ensures that pie is drawn as a circle.\n",
    "\n",
    "st.pyplot(fig1)"
   ]
  },
  {
   "cell_type": "code",
   "execution_count": 4,
   "metadata": {
    "collapsed": false
   },
   "outputs": [
    {
     "ename": "NameError",
     "evalue": "name 'top_half' is not defined",
     "output_type": "error",
     "traceback": [
      "\u001b[0;31m---------------------------------------------------------------------------\u001b[0m",
      "\u001b[0;31mNameError\u001b[0m                                 Traceback (most recent call last)",
      "Input \u001b[0;32mIn [4]\u001b[0m, in \u001b[0;36m<cell line: 2>\u001b[0;34m()\u001b[0m\n\u001b[1;32m      1\u001b[0m \u001b[38;5;66;03m###tophalf stuff (teddy)\u001b[39;00m\n\u001b[0;32m----> 2\u001b[0m top_total \u001b[38;5;241m=\u001b[39m \u001b[38;5;28mlen\u001b[39m(\u001b[43mtop_half\u001b[49m)\n\u001b[1;32m      3\u001b[0m \u001b[38;5;66;03m#tttop\u001b[39;00m\n\u001b[1;32m      4\u001b[0m tt1 \u001b[38;5;241m=\u001b[39m top_half[\u001b[38;5;124m\"\u001b[39m\u001b[38;5;124mTransmission_Type\u001b[39m\u001b[38;5;124m\"\u001b[39m]\u001b[38;5;241m.\u001b[39mvalue_counts()[\u001b[38;5;124m\"\u001b[39m\u001b[38;5;124mManual\u001b[39m\u001b[38;5;124m\"\u001b[39m]\n",
      "\u001b[0;31mNameError\u001b[0m: name 'top_half' is not defined"
     ]
    }
   ],
   "source": [
    "###tophalf stuff (teddy)\n",
    "top_total = len(top_half)\n",
    "#tttop\n",
    "tt1 = top_half[\"Transmission_Type\"].value_counts()[\"Manual\"]\n",
    "tt2 = top_half[\"Transmission_Type\"].value_counts()[\"Automatic\"]\n",
    "tt_arr = np.array([(tt1/top_total), (tt2/top_total)])\n",
    "tt_labels = [\"Manual\", \"Automatic\"]\n",
    "fig1, ax1 = plt.subplots()\n",
    "plt.pie(tt_arr, labels = tt_labels, shadow = True)\n",
    "#fttop\n",
    "ft1 = top_half[\"Fuel_Type\"].value_counts()[\"petrol\"]\n",
    "ft2 = top_half[\"Fuel_Type\"].value_counts()[\"diesel\"]\n",
    "ft_arr = np.array([(ft1/top_total), (ft2/top_total)])\n",
    "ft_labels = [\"petrol\", \"diesel\"]\n",
    "plt.pie(ft_arr, labels = ft_labels, shadow = True)\n",
    "#sctop\n",
    "top_half[\"Seating_Capacity\"].unique()\n",
    "sc1 = top_half[\"Seating_Capacity\"].value_counts()[5.0]\n",
    "sc2 = top_half[\"Seating_Capacity\"].value_counts()[7.0]\n",
    "sc3 = top_half[\"Seating_Capacity\"].value_counts()[6.0]\n",
    "plt.pie(sc_arr, labels = sc_labels, shadow = True)\n",
    "\n",
    "\n",
    "\n",
    "\n",
    "with col1:\n",
    "   st.pyplot(fig3)\n",
    "\n",
    "with col2:\n",
    "   st.pyplot(fig2)\n",
    "\n",
    "with col3:\n",
    "   st.pyplot(fig3)"
   ]
  },
  {
   "cell_type": "code",
   "execution_count": 8,
   "metadata": {
    "collapsed": false
   },
   "outputs": [
    {
     "data": {
      "text/plain": [
       "array([5, 7, 8, 4])"
      ]
     },
     "execution_count": 8,
     "metadata": {
     },
     "output_type": "execute_result"
    }
   ],
   "source": [
    "bottom_half = df[df['Price']<=8892.233607]\n",
    "bottom_half['Seating_Capacity'].unique()"
   ]
  },
  {
   "cell_type": "code",
   "execution_count": 0,
   "metadata": {
    "collapsed": false
   },
   "outputs": [
   ],
   "source": [
   ]
  }
 ],
 "metadata": {
  "kernelspec": {
   "display_name": "Python (ds_env)",
   "language": "python",
   "metadata": {
    "debugger": true
   },
   "name": "ds_env",
   "resource_dir": "/projects/f9a25c35-74a4-42eb-85d0-6758c9231670/.local/share/jupyter/kernels/ds_env"
  },
  "language_info": {
   "codemirror_mode": {
    "name": "ipython",
    "version": 3
   },
   "file_extension": ".py",
   "mimetype": "text/x-python",
   "name": "python",
   "nbconvert_exporter": "python",
   "pygments_lexer": "ipython3",
   "version": "3.10.8"
  }
 },
 "nbformat": 4,
 "nbformat_minor": 4
}